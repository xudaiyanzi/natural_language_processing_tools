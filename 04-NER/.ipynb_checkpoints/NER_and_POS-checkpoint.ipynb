{
 "cells": [
  {
   "cell_type": "markdown",
   "metadata": {},
   "source": [
    "### Execute this cell to install required python module\n",
    "\n",
    "After you've installed this once, you can delete this cell."
   ]
  },
  {
   "cell_type": "code",
   "execution_count": null,
   "metadata": {},
   "outputs": [],
   "source": [
    "!pip install spacy\n",
    "!python -m spacy download en_core_web_sm\n",
    "!python -m spacy download en_core_web_lg"
   ]
  },
  {
   "cell_type": "markdown",
   "metadata": {},
   "source": [
    "# Named Entity Recognition & Parts of Speech Tagging\n",
    "## Using [Spacy's pre-trained NER and POS tagger](https://spacy.io/api/annotation#named-entities)"
   ]
  },
  {
   "cell_type": "code",
   "execution_count": null,
   "metadata": {},
   "outputs": [],
   "source": [
    "import spacy\n",
    "from spacy import displacy\n",
    "\n",
    "# Load English tokenizer, tagger, parser, NER and word vectors\n",
    "nlp = spacy.load(\"en_core_web_sm\")\n",
    "\n",
    "\n",
    "text = (\"A live 1957 recording of John Coltrane and Thelonious Monk sat in the Library of Congress’s \"\n",
    "        \"archives unnoticed for 48 years, before the library’s Magnetic Recording Laboratory supervisor \"\n",
    "        \"Larry Appelbaum found it. For 60 years , Verve stored a live recording of Ella Fitzgerald \"\n",
    "        \"performing at Zardi’s Jazzland in Hollywood, before releasing it in 2017 just after what would \"\n",
    "        \"have been her 100th birthday.\")\n",
    "\n",
    "# Process document\n",
    "doc = nlp(text)\n",
    "\n",
    "# Analyze syntax\n",
    "print(\"Noun phrases:\\n\",[chunk.text for chunk in doc.noun_chunks])\n",
    "print(\"\\nVerbs:\\n\", [token.lemma_ for token in doc if token.pos_ == \"VERB\"])\n",
    "print()\n",
    "\n",
    "# Extract Entities\n",
    "ent_list = []\n",
    "for entity in doc.ents:\n",
    "    ent_list.append([entity.text, entity.label_])\n",
    "    \n",
    "print(tabulate(ent_list, headers=['Entity', 'Entity Type']))"
   ]
  },
  {
   "cell_type": "markdown",
   "metadata": {},
   "source": [
    "# Spacy Visuals"
   ]
  },
  {
   "cell_type": "code",
   "execution_count": null,
   "metadata": {},
   "outputs": [],
   "source": [
    "sentence_spans = list(doc.sents)\n",
    "displacy.render(sentence_spans, style=\"ent\")"
   ]
  },
  {
   "cell_type": "code",
   "execution_count": null,
   "metadata": {},
   "outputs": [],
   "source": [
    "displacy.render(sentence_spans, style=\"dep\", options={\"word_spacing\":15})"
   ]
  },
  {
   "cell_type": "code",
   "execution_count": null,
   "metadata": {},
   "outputs": [],
   "source": []
  }
 ],
 "metadata": {
  "kernelspec": {
   "display_name": "RicePythonData",
   "language": "python",
   "name": "ricepythondata"
  },
  "language_info": {
   "codemirror_mode": {
    "name": "ipython",
    "version": 3
   },
   "file_extension": ".py",
   "mimetype": "text/x-python",
   "name": "python",
   "nbconvert_exporter": "python",
   "pygments_lexer": "ipython3",
   "version": "3.7.2"
  }
 },
 "nbformat": 4,
 "nbformat_minor": 2
}
