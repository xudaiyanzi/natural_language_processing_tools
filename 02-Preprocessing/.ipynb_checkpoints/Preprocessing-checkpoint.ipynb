{
 "cells": [
  {
   "cell_type": "markdown",
   "metadata": {},
   "source": [
    "# Preprocessing Text"
   ]
  },
  {
   "cell_type": "code",
   "execution_count": 1,
   "metadata": {},
   "outputs": [],
   "source": [
    "import nltk\n",
    "import pandas as pd\n",
    "import numpy as np\n",
    "\n",
    "# Expand the max width of how our dataFrames display on screen\n",
    "pd.options.display.max_colwidth = 500"
   ]
  },
  {
   "cell_type": "markdown",
   "metadata": {},
   "source": [
    "### Define a sentence to begin with"
   ]
  },
  {
   "cell_type": "code",
   "execution_count": 2,
   "metadata": {},
   "outputs": [],
   "source": [
    "# three quote \"\"\"\"\"\" allow to have multiple lines of strings\n",
    "text = \"\"\"Overfitting means that a model we've trained was trained too well and it's fitting too closely to the training dataset. \n",
    "A model has been overfit when the model is too complex (i.e. too many features/variables compared to the number of observations)\"\"\""
   ]
  },
  {
   "cell_type": "markdown",
   "metadata": {},
   "source": [
    "# Preprocessing"
   ]
  },
  {
   "cell_type": "markdown",
   "metadata": {},
   "source": [
    "### Expand contractions"
   ]
  },
  {
   "cell_type": "code",
   "execution_count": 6,
   "metadata": {},
   "outputs": [
    {
     "data": {
      "text/html": [
       "<div>\n",
       "<style scoped>\n",
       "    .dataframe tbody tr th:only-of-type {\n",
       "        vertical-align: middle;\n",
       "    }\n",
       "\n",
       "    .dataframe tbody tr th {\n",
       "        vertical-align: top;\n",
       "    }\n",
       "\n",
       "    .dataframe thead th {\n",
       "        text-align: right;\n",
       "    }\n",
       "</style>\n",
       "<table border=\"1\" class=\"dataframe\">\n",
       "  <thead>\n",
       "    <tr style=\"text-align: right;\">\n",
       "      <th></th>\n",
       "      <th>0</th>\n",
       "    </tr>\n",
       "  </thead>\n",
       "  <tbody>\n",
       "    <tr>\n",
       "      <th>Before</th>\n",
       "      <td>Overfitting means that a model we've trained was trained too well and it's fitting too closely to the training dataset. \\nA model has been overfit when the model is too complex (i.e. too many features/variables compared to the number of observations)</td>\n",
       "    </tr>\n",
       "    <tr>\n",
       "      <th>After</th>\n",
       "      <td>Overfitting means that a model we have trained was trained too well and it is fitting too closely to the training dataset. \\nA model has been overfit when the model is too complex (i.e. too many features/variables compared to the number of observations)</td>\n",
       "    </tr>\n",
       "  </tbody>\n",
       "</table>\n",
       "</div>"
      ],
      "text/plain": [
       "                                                                                                                                                                                                                                                                    0\n",
       "Before     Overfitting means that a model we've trained was trained too well and it's fitting too closely to the training dataset. \\nA model has been overfit when the model is too complex (i.e. too many features/variables compared to the number of observations)\n",
       "After   Overfitting means that a model we have trained was trained too well and it is fitting too closely to the training dataset. \\nA model has been overfit when the model is too complex (i.e. too many features/variables compared to the number of observations)"
      ]
     },
     "execution_count": 6,
     "metadata": {},
     "output_type": "execute_result"
    }
   ],
   "source": [
    "# contractions means we are-->we're\n",
    "import contractions\n",
    "\n",
    "def fix_contractions(text):\n",
    "    text = contractions.fix(text)\n",
    "    return text\n",
    "\n",
    "no_contractions = fix_contractions(text)\n",
    "pd.DataFrame({\"Before\": [text], \"After\": [no_contractions]}).T"
   ]
  },
  {
   "cell_type": "markdown",
   "metadata": {},
   "source": [
    "### Tokenize text\n",
    "\n",
    "nltk's `word_tokenize` function is a bit more advanced than the standard `split` function. `Tokenize` views the text linguistically and handles tokenizing compound terms, contractions, and punctuation much better than `split`."
   ]
  },
  {
   "cell_type": "code",
   "execution_count": 7,
   "metadata": {},
   "outputs": [
    {
     "data": {
      "text/html": [
       "<div>\n",
       "<style scoped>\n",
       "    .dataframe tbody tr th:only-of-type {\n",
       "        vertical-align: middle;\n",
       "    }\n",
       "\n",
       "    .dataframe tbody tr th {\n",
       "        vertical-align: top;\n",
       "    }\n",
       "\n",
       "    .dataframe thead th {\n",
       "        text-align: right;\n",
       "    }\n",
       "</style>\n",
       "<table border=\"1\" class=\"dataframe\">\n",
       "  <thead>\n",
       "    <tr style=\"text-align: right;\">\n",
       "      <th></th>\n",
       "      <th>0</th>\n",
       "    </tr>\n",
       "  </thead>\n",
       "  <tbody>\n",
       "    <tr>\n",
       "      <th>Before</th>\n",
       "      <td>Overfitting means that a model we have trained was trained too well and it is fitting too closely to the training dataset. \\nA model has been overfit when the model is too complex (i.e. too many features/variables compared to the number of observations)</td>\n",
       "    </tr>\n",
       "    <tr>\n",
       "      <th>After</th>\n",
       "      <td>[Overfitting, means, that, a, model, we, have, trained, was, trained, too, well, and, it, is, fitting, too, closely, to, the, training, dataset, ., A, model, has, been, overfit, when, the, model, is, too, complex, (, i.e, ., too, many, features/variables, compared, to, the, number, of, observations, )]</td>\n",
       "    </tr>\n",
       "  </tbody>\n",
       "</table>\n",
       "</div>"
      ],
      "text/plain": [
       "                                                                                                                                                                                                                                                                                                                      0\n",
       "Before                                                    Overfitting means that a model we have trained was trained too well and it is fitting too closely to the training dataset. \\nA model has been overfit when the model is too complex (i.e. too many features/variables compared to the number of observations)\n",
       "After   [Overfitting, means, that, a, model, we, have, trained, was, trained, too, well, and, it, is, fitting, too, closely, to, the, training, dataset, ., A, model, has, been, overfit, when, the, model, is, too, complex, (, i.e, ., too, many, features/variables, compared, to, the, number, of, observations, )]"
      ]
     },
     "execution_count": 7,
     "metadata": {},
     "output_type": "execute_result"
    }
   ],
   "source": [
    "from nltk import word_tokenize\n",
    "\n",
    "def tokenize_text(text):\n",
    "    \"\"\"Return tokenized list of words\"\"\"\n",
    "    words = word_tokenize(text)\n",
    "    return words\n",
    "\n",
    "tokens = tokenize_text(no_contractions)\n",
    "pd.DataFrame({\"Before\": [no_contractions], \"After\": [tokens]}).T"
   ]
  },
  {
   "cell_type": "markdown",
   "metadata": {},
   "source": [
    "### Lowercase words"
   ]
  },
  {
   "cell_type": "code",
   "execution_count": 8,
   "metadata": {},
   "outputs": [
    {
     "data": {
      "text/html": [
       "<div>\n",
       "<style scoped>\n",
       "    .dataframe tbody tr th:only-of-type {\n",
       "        vertical-align: middle;\n",
       "    }\n",
       "\n",
       "    .dataframe tbody tr th {\n",
       "        vertical-align: top;\n",
       "    }\n",
       "\n",
       "    .dataframe thead th {\n",
       "        text-align: right;\n",
       "    }\n",
       "</style>\n",
       "<table border=\"1\" class=\"dataframe\">\n",
       "  <thead>\n",
       "    <tr style=\"text-align: right;\">\n",
       "      <th></th>\n",
       "      <th>0</th>\n",
       "    </tr>\n",
       "  </thead>\n",
       "  <tbody>\n",
       "    <tr>\n",
       "      <th>Before</th>\n",
       "      <td>[Overfitting, means, that, a, model, we, have, trained, was, trained, too, well, and, it, is, fitting, too, closely, to, the, training, dataset, ., A, model, has, been, overfit, when, the, model, is, too, complex, (, i.e, ., too, many, features/variables, compared, to, the, number, of, observations, )]</td>\n",
       "    </tr>\n",
       "    <tr>\n",
       "      <th>After</th>\n",
       "      <td>[overfitting, means, that, a, model, we, have, trained, was, trained, too, well, and, it, is, fitting, too, closely, to, the, training, dataset, ., a, model, has, been, overfit, when, the, model, is, too, complex, (, i.e, ., too, many, features/variables, compared, to, the, number, of, observations, )]</td>\n",
       "    </tr>\n",
       "  </tbody>\n",
       "</table>\n",
       "</div>"
      ],
      "text/plain": [
       "                                                                                                                                                                                                                                                                                                                      0\n",
       "Before  [Overfitting, means, that, a, model, we, have, trained, was, trained, too, well, and, it, is, fitting, too, closely, to, the, training, dataset, ., A, model, has, been, overfit, when, the, model, is, too, complex, (, i.e, ., too, many, features/variables, compared, to, the, number, of, observations, )]\n",
       "After   [overfitting, means, that, a, model, we, have, trained, was, trained, too, well, and, it, is, fitting, too, closely, to, the, training, dataset, ., a, model, has, been, overfit, when, the, model, is, too, complex, (, i.e, ., too, many, features/variables, compared, to, the, number, of, observations, )]"
      ]
     },
     "execution_count": 8,
     "metadata": {},
     "output_type": "execute_result"
    }
   ],
   "source": [
    "def to_lowercase(tokens):\n",
    "    \"\"\"Lowercase all words\"\"\"\n",
    "    lower_words = [w.lower() for w in tokens]\n",
    "    return lower_words\n",
    "\n",
    "lower_tokens = to_lowercase(tokens)\n",
    "pd.DataFrame({\"Before\": [tokens], \"After\": [to_lowercase(lower_tokens)]}).T"
   ]
  },
  {
   "cell_type": "markdown",
   "metadata": {},
   "source": [
    "### Remove punctuation"
   ]
  },
  {
   "cell_type": "markdown",
   "metadata": {},
   "source": [
    "The function below compiles a [translation table](https://www.programiz.com/python-programming/methods/string/maketrans) using `string.punctuation` as the set of characters to filter out, and then uses `translate()` within a list comprehension to pass each term through the translation table to remove unwanted characters."
   ]
  },
  {
   "cell_type": "code",
   "execution_count": 9,
   "metadata": {},
   "outputs": [
    {
     "data": {
      "text/html": [
       "<div>\n",
       "<style scoped>\n",
       "    .dataframe tbody tr th:only-of-type {\n",
       "        vertical-align: middle;\n",
       "    }\n",
       "\n",
       "    .dataframe tbody tr th {\n",
       "        vertical-align: top;\n",
       "    }\n",
       "\n",
       "    .dataframe thead th {\n",
       "        text-align: right;\n",
       "    }\n",
       "</style>\n",
       "<table border=\"1\" class=\"dataframe\">\n",
       "  <thead>\n",
       "    <tr style=\"text-align: right;\">\n",
       "      <th></th>\n",
       "      <th>0</th>\n",
       "    </tr>\n",
       "  </thead>\n",
       "  <tbody>\n",
       "    <tr>\n",
       "      <th>Before</th>\n",
       "      <td>[overfitting, means, that, a, model, we, have, trained, was, trained, too, well, and, it, is, fitting, too, closely, to, the, training, dataset, ., a, model, has, been, overfit, when, the, model, is, too, complex, (, i.e, ., too, many, features/variables, compared, to, the, number, of, observations, )]</td>\n",
       "    </tr>\n",
       "    <tr>\n",
       "      <th>After</th>\n",
       "      <td>[overfitting, means, that, a, model, we, have, trained, was, trained, too, well, and, it, is, fitting, too, closely, to, the, training, dataset, a, model, has, been, overfit, when, the, model, is, too, complex, ie, too, many, featuresvariables, compared, to, the, number, of, observations]</td>\n",
       "    </tr>\n",
       "  </tbody>\n",
       "</table>\n",
       "</div>"
      ],
      "text/plain": [
       "                                                                                                                                                                                                                                                                                                                      0\n",
       "Before  [overfitting, means, that, a, model, we, have, trained, was, trained, too, well, and, it, is, fitting, too, closely, to, the, training, dataset, ., a, model, has, been, overfit, when, the, model, is, too, complex, (, i.e, ., too, many, features/variables, compared, to, the, number, of, observations, )]\n",
       "After                 [overfitting, means, that, a, model, we, have, trained, was, trained, too, well, and, it, is, fitting, too, closely, to, the, training, dataset, a, model, has, been, overfit, when, the, model, is, too, complex, ie, too, many, featuresvariables, compared, to, the, number, of, observations]"
      ]
     },
     "execution_count": 9,
     "metadata": {},
     "output_type": "execute_result"
    }
   ],
   "source": [
    "import string\n",
    "\n",
    "def remove_punctuation(tokens):\n",
    "    \"\"\"Remove punctuation from list of tokenized words\"\"\"\n",
    "    table = str.maketrans('', '', string.punctuation)\n",
    "    clean_tokens = [w.translate(table) for w in tokens]\n",
    "    \n",
    "    # remove empty values left behind from tokens that were only punctuation\n",
    "    clean_tokens = list(filter(None, clean_tokens))\n",
    "    return clean_tokens\n",
    "\n",
    "no_punctuation = remove_punctuation(lower_tokens)\n",
    "pd.DataFrame({\"Before\": [lower_tokens], \"After\": [no_punctuation]}).T"
   ]
  },
  {
   "cell_type": "markdown",
   "metadata": {},
   "source": [
    "### Remove Stopwords"
   ]
  },
  {
   "cell_type": "code",
   "execution_count": 10,
   "metadata": {},
   "outputs": [
    {
     "data": {
      "text/html": [
       "<div>\n",
       "<style scoped>\n",
       "    .dataframe tbody tr th:only-of-type {\n",
       "        vertical-align: middle;\n",
       "    }\n",
       "\n",
       "    .dataframe tbody tr th {\n",
       "        vertical-align: top;\n",
       "    }\n",
       "\n",
       "    .dataframe thead th {\n",
       "        text-align: right;\n",
       "    }\n",
       "</style>\n",
       "<table border=\"1\" class=\"dataframe\">\n",
       "  <thead>\n",
       "    <tr style=\"text-align: right;\">\n",
       "      <th></th>\n",
       "      <th>0</th>\n",
       "    </tr>\n",
       "  </thead>\n",
       "  <tbody>\n",
       "    <tr>\n",
       "      <th>Before</th>\n",
       "      <td>[overfitting, means, that, a, model, we, have, trained, was, trained, too, well, and, it, is, fitting, too, closely, to, the, training, dataset, a, model, has, been, overfit, when, the, model, is, too, complex, ie, too, many, featuresvariables, compared, to, the, number, of, observations]</td>\n",
       "    </tr>\n",
       "    <tr>\n",
       "      <th>After</th>\n",
       "      <td>[overfitting, means, model, trained, trained, well, fitting, closely, training, dataset, model, overfit, model, complex, many, featuresvariables, compared, number, observations]</td>\n",
       "    </tr>\n",
       "  </tbody>\n",
       "</table>\n",
       "</div>"
      ],
      "text/plain": [
       "                                                                                                                                                                                                                                                                                                        0\n",
       "Before  [overfitting, means, that, a, model, we, have, trained, was, trained, too, well, and, it, is, fitting, too, closely, to, the, training, dataset, a, model, has, been, overfit, when, the, model, is, too, complex, ie, too, many, featuresvariables, compared, to, the, number, of, observations]\n",
       "After                                                                                                                   [overfitting, means, model, trained, trained, well, fitting, closely, training, dataset, model, overfit, model, complex, many, featuresvariables, compared, number, observations]"
      ]
     },
     "execution_count": 10,
     "metadata": {},
     "output_type": "execute_result"
    }
   ],
   "source": [
    "from nltk.corpus import stopwords\n",
    "\n",
    "stop_words = stopwords.words('english')\n",
    "stop_words.extend(['said', 'would', 'subject', 'use', 'also', 'like'])\n",
    "\n",
    "def remove_stopwords(tokens, min_word_len=3):\n",
    "    \"\"\"Remove stopwords and short words from list of tokenized words\"\"\"\n",
    "    valued_tokens = []\n",
    "    for w in tokens:\n",
    "        if w not in stop_words and len(w)>=min_word_len:\n",
    "            valued_tokens.append(w)\n",
    "    return valued_tokens\n",
    "\n",
    "no_stopwords = remove_stopwords(no_punctuation)\n",
    "pd.DataFrame({\"Before\": [no_punctuation], \"After\": [no_stopwords]}).T"
   ]
  },
  {
   "cell_type": "markdown",
   "metadata": {},
   "source": [
    "### Perform Stemming\n",
    "\n",
    "Stemming is method of reducing inflectional forms of related terms. The goal is to reduce terms down to a root form.\n",
    "\n",
    "[More information on stemming and lemmatization.](https://nlp.stanford.edu/IR-book/html/htmledition/stemming-and-lemmatization-1.html)"
   ]
  },
  {
   "cell_type": "code",
   "execution_count": 11,
   "metadata": {},
   "outputs": [
    {
     "data": {
      "text/html": [
       "<div>\n",
       "<style scoped>\n",
       "    .dataframe tbody tr th:only-of-type {\n",
       "        vertical-align: middle;\n",
       "    }\n",
       "\n",
       "    .dataframe tbody tr th {\n",
       "        vertical-align: top;\n",
       "    }\n",
       "\n",
       "    .dataframe thead th {\n",
       "        text-align: right;\n",
       "    }\n",
       "</style>\n",
       "<table border=\"1\" class=\"dataframe\">\n",
       "  <thead>\n",
       "    <tr style=\"text-align: right;\">\n",
       "      <th></th>\n",
       "      <th>0</th>\n",
       "    </tr>\n",
       "  </thead>\n",
       "  <tbody>\n",
       "    <tr>\n",
       "      <th>Before</th>\n",
       "      <td>[overfitting, means, model, trained, trained, well, fitting, closely, training, dataset, model, overfit, model, complex, many, featuresvariables, compared, number, observations]</td>\n",
       "    </tr>\n",
       "    <tr>\n",
       "      <th>After</th>\n",
       "      <td>[overfit, mean, model, train, train, well, fit, close, train, dataset, model, overfit, model, complex, mani, featuresvari, compar, number, observ]</td>\n",
       "    </tr>\n",
       "  </tbody>\n",
       "</table>\n",
       "</div>"
      ],
      "text/plain": [
       "                                                                                                                                                                                        0\n",
       "Before  [overfitting, means, model, trained, trained, well, fitting, closely, training, dataset, model, overfit, model, complex, many, featuresvariables, compared, number, observations]\n",
       "After                                  [overfit, mean, model, train, train, well, fit, close, train, dataset, model, overfit, model, complex, mani, featuresvari, compar, number, observ]"
      ]
     },
     "execution_count": 11,
     "metadata": {},
     "output_type": "execute_result"
    }
   ],
   "source": [
    "from nltk.stem import PorterStemmer\n",
    "\n",
    "def stem_words(tokens):\n",
    "    \"\"\"Normalizes variations of tokens through stemming\"\"\"\n",
    "    ps = PorterStemmer()\n",
    "    stems = []\n",
    "    for word in tokens:\n",
    "        stem = ps.stem(word)\n",
    "        stems.append(stem)\n",
    "    return stems\n",
    "\n",
    "stems = stem_words(no_stopwords)\n",
    "pd.DataFrame({\"Before\": [no_stopwords], \"After\": [stems]}).T"
   ]
  },
  {
   "cell_type": "markdown",
   "metadata": {},
   "source": [
    "## Before and After"
   ]
  },
  {
   "cell_type": "code",
   "execution_count": 12,
   "metadata": {},
   "outputs": [
    {
     "data": {
      "text/html": [
       "<div>\n",
       "<style scoped>\n",
       "    .dataframe tbody tr th:only-of-type {\n",
       "        vertical-align: middle;\n",
       "    }\n",
       "\n",
       "    .dataframe tbody tr th {\n",
       "        vertical-align: top;\n",
       "    }\n",
       "\n",
       "    .dataframe thead th {\n",
       "        text-align: right;\n",
       "    }\n",
       "</style>\n",
       "<table border=\"1\" class=\"dataframe\">\n",
       "  <thead>\n",
       "    <tr style=\"text-align: right;\">\n",
       "      <th></th>\n",
       "      <th>0</th>\n",
       "    </tr>\n",
       "  </thead>\n",
       "  <tbody>\n",
       "    <tr>\n",
       "      <th>Before</th>\n",
       "      <td>Overfitting means that a model we've trained was trained too well and it's fitting too closely to the training dataset. \\nA model has been overfit when the model is too complex (i.e. too many features/variables compared to the number of observations)</td>\n",
       "    </tr>\n",
       "    <tr>\n",
       "      <th>After</th>\n",
       "      <td>[overfit, mean, model, train, train, well, fit, close, train, dataset, model, overfit, model, complex, mani, featuresvari, compar, number, observ]</td>\n",
       "    </tr>\n",
       "  </tbody>\n",
       "</table>\n",
       "</div>"
      ],
      "text/plain": [
       "                                                                                                                                                                                                                                                                 0\n",
       "Before  Overfitting means that a model we've trained was trained too well and it's fitting too closely to the training dataset. \\nA model has been overfit when the model is too complex (i.e. too many features/variables compared to the number of observations)\n",
       "After                                                                                                           [overfit, mean, model, train, train, well, fit, close, train, dataset, model, overfit, model, complex, mani, featuresvari, compar, number, observ]"
      ]
     },
     "execution_count": 12,
     "metadata": {},
     "output_type": "execute_result"
    }
   ],
   "source": [
    "pd.DataFrame({\"Before\": [text], \"After\": [stems]}).T"
   ]
  },
  {
   "cell_type": "code",
   "execution_count": null,
   "metadata": {},
   "outputs": [],
   "source": []
  }
 ],
 "metadata": {
  "kernelspec": {
   "display_name": "Python 3",
   "language": "python",
   "name": "python3"
  },
  "language_info": {
   "codemirror_mode": {
    "name": "ipython",
    "version": 3
   },
   "file_extension": ".py",
   "mimetype": "text/x-python",
   "name": "python",
   "nbconvert_exporter": "python",
   "pygments_lexer": "ipython3",
   "version": "3.7.2"
  }
 },
 "nbformat": 4,
 "nbformat_minor": 2
}
